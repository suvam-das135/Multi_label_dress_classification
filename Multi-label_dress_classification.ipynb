{
 "cells": [
  {
   "cell_type": "markdown",
   "metadata": {},
   "source": [
    "## LOADING LIBRARIES"
   ]
  },
  {
   "cell_type": "code",
   "execution_count": 1,
   "metadata": {},
   "outputs": [],
   "source": [
    "from tensorflow import keras\n",
    "from keras.models import Sequential\n",
    "from keras.layers import Dense, Dropout, Flatten\n",
    "from keras.layers import Conv2D, MaxPooling2D\n",
    "from sklearn.preprocessing import OrdinalEncoder\n",
    "#from keras.utils import to_categorical\n",
    "from keras.preprocessing import image\n",
    "import numpy as np\n",
    "import pandas as pd\n",
    "import matplotlib.pyplot as plt\n",
    "from sklearn.model_selection import train_test_split\n",
    "from tqdm import tqdm\n",
    "%matplotlib inline"
   ]
  },
  {
   "cell_type": "markdown",
   "metadata": {},
   "source": [
    "## LOADING LABELS DATASET<BR>\n",
    "HERE WE HAVE A DATASET THAT HAS THE ID/CODE FOR THE DRESSES AND THEIR CORESSPONDING CHARACTERISTIC FEATURES<BR>\n",
    "LIKE COLOR, FABRIC AND PATTERN<BR>\n",
    "THE DATA CONSISTS OF WOMEN'S DRESSES AND WAS COLLECTED FROM myntra.com"
   ]
  },
  {
   "cell_type": "code",
   "execution_count": 2,
   "metadata": {},
   "outputs": [
    {
     "data": {
      "text/html": [
       "<div>\n",
       "<style scoped>\n",
       "    .dataframe tbody tr th:only-of-type {\n",
       "        vertical-align: middle;\n",
       "    }\n",
       "\n",
       "    .dataframe tbody tr th {\n",
       "        vertical-align: top;\n",
       "    }\n",
       "\n",
       "    .dataframe thead th {\n",
       "        text-align: right;\n",
       "    }\n",
       "</style>\n",
       "<table border=\"1\" class=\"dataframe\">\n",
       "  <thead>\n",
       "    <tr style=\"text-align: right;\">\n",
       "      <th></th>\n",
       "      <th>id</th>\n",
       "      <th>color</th>\n",
       "      <th>fabric</th>\n",
       "      <th>pattern</th>\n",
       "    </tr>\n",
       "  </thead>\n",
       "  <tbody>\n",
       "    <tr>\n",
       "      <th>0</th>\n",
       "      <td>img-1</td>\n",
       "      <td>blue</td>\n",
       "      <td>cotton</td>\n",
       "      <td>solid</td>\n",
       "    </tr>\n",
       "    <tr>\n",
       "      <th>1</th>\n",
       "      <td>img-2</td>\n",
       "      <td>pink</td>\n",
       "      <td>polyster</td>\n",
       "      <td>solid</td>\n",
       "    </tr>\n",
       "    <tr>\n",
       "      <th>2</th>\n",
       "      <td>img-3</td>\n",
       "      <td>orange</td>\n",
       "      <td>cotton</td>\n",
       "      <td>solid</td>\n",
       "    </tr>\n",
       "    <tr>\n",
       "      <th>3</th>\n",
       "      <td>img-4</td>\n",
       "      <td>black</td>\n",
       "      <td>polyster</td>\n",
       "      <td>solid</td>\n",
       "    </tr>\n",
       "    <tr>\n",
       "      <th>4</th>\n",
       "      <td>img-5</td>\n",
       "      <td>green</td>\n",
       "      <td>polyster</td>\n",
       "      <td>solid</td>\n",
       "    </tr>\n",
       "  </tbody>\n",
       "</table>\n",
       "</div>"
      ],
      "text/plain": [
       "      id   color    fabric pattern\n",
       "0  img-1    blue    cotton   solid\n",
       "1  img-2    pink  polyster   solid\n",
       "2  img-3  orange    cotton   solid\n",
       "3  img-4   black  polyster   solid\n",
       "4  img-5   green  polyster   solid"
      ]
     },
     "execution_count": 2,
     "metadata": {},
     "output_type": "execute_result"
    }
   ],
   "source": [
    "train = pd.read_excel('Image_Dataset_Details.xlsx')    # reading the csv file\n",
    "train.head()      # printing first five rows of the file"
   ]
  },
  {
   "cell_type": "markdown",
   "metadata": {},
   "source": [
    "## DATA PREPROCESSING"
   ]
  },
  {
   "cell_type": "markdown",
   "metadata": {},
   "source": [
    "HERE WE CAN SEE THE DIFFERENT TYPES OF COLOR, FABRIC AND PATTERN THAT WE HAVE IN OUR DATASET"
   ]
  },
  {
   "cell_type": "code",
   "execution_count": 3,
   "metadata": {},
   "outputs": [
    {
     "name": "stdout",
     "output_type": "stream",
     "text": [
      "['blue' 'pink' 'orange' 'black' 'green' 'yellow' 'red' 'white' 'purple'\n",
      " 'white ' 'blue ' 'brown ' 'green ' 'pink ' 'black ' 'red ' 'yellow '\n",
      " 'grey' 'violet' 'orange ' 'grey ']\n",
      "['cotton' 'polyster' 'ployster' 'silk' 'denim' 'polyester' 'wool']\n",
      "['solid' 'striped' 'checked' 'printed' 'dyed' 'embroidered']\n"
     ]
    }
   ],
   "source": [
    "print(train['color'].unique())\n",
    "print(train['fabric'].unique())\n",
    "print(train['pattern'].unique())\n",
    "\n",
    "color = train['color'].unique()\n",
    "fabric = train['fabric'].unique()\n",
    "pattern = train['pattern'].unique()"
   ]
  },
  {
   "cell_type": "markdown",
   "metadata": {},
   "source": [
    "AS WE ARE USING A CONVOLUTIONAL MODEL, WE NEED TO ENCODE THE STRING DATA SO THAT IT CAN EASILY BE TRAINED THROUGH THE MODEL<BR>\n",
    "WE ARE USING ORDINAL ENCODER FOR THIS PURPOSE"
   ]
  },
  {
   "cell_type": "code",
   "execution_count": 4,
   "metadata": {},
   "outputs": [],
   "source": [
    "ord_enc = OrdinalEncoder()\n",
    "train[\"color\"] = ord_enc.fit_transform(train[[\"color\"]])\n",
    "train[\"fabric\"] = ord_enc.fit_transform(train[[\"fabric\"]])\n",
    "train[\"pattern\"] = ord_enc.fit_transform(train[[\"pattern\"]])"
   ]
  },
  {
   "cell_type": "markdown",
   "metadata": {},
   "source": [
    "DATA AFTER ENCODING"
   ]
  },
  {
   "cell_type": "code",
   "execution_count": 5,
   "metadata": {},
   "outputs": [
    {
     "data": {
      "text/html": [
       "<div>\n",
       "<style scoped>\n",
       "    .dataframe tbody tr th:only-of-type {\n",
       "        vertical-align: middle;\n",
       "    }\n",
       "\n",
       "    .dataframe tbody tr th {\n",
       "        vertical-align: top;\n",
       "    }\n",
       "\n",
       "    .dataframe thead th {\n",
       "        text-align: right;\n",
       "    }\n",
       "</style>\n",
       "<table border=\"1\" class=\"dataframe\">\n",
       "  <thead>\n",
       "    <tr style=\"text-align: right;\">\n",
       "      <th></th>\n",
       "      <th>id</th>\n",
       "      <th>color</th>\n",
       "      <th>fabric</th>\n",
       "      <th>pattern</th>\n",
       "    </tr>\n",
       "  </thead>\n",
       "  <tbody>\n",
       "    <tr>\n",
       "      <th>0</th>\n",
       "      <td>img-1</td>\n",
       "      <td>2.0</td>\n",
       "      <td>0.0</td>\n",
       "      <td>4.0</td>\n",
       "    </tr>\n",
       "    <tr>\n",
       "      <th>1</th>\n",
       "      <td>img-2</td>\n",
       "      <td>11.0</td>\n",
       "      <td>4.0</td>\n",
       "      <td>4.0</td>\n",
       "    </tr>\n",
       "    <tr>\n",
       "      <th>2</th>\n",
       "      <td>img-3</td>\n",
       "      <td>9.0</td>\n",
       "      <td>0.0</td>\n",
       "      <td>4.0</td>\n",
       "    </tr>\n",
       "    <tr>\n",
       "      <th>3</th>\n",
       "      <td>img-4</td>\n",
       "      <td>0.0</td>\n",
       "      <td>4.0</td>\n",
       "      <td>4.0</td>\n",
       "    </tr>\n",
       "    <tr>\n",
       "      <th>4</th>\n",
       "      <td>img-5</td>\n",
       "      <td>5.0</td>\n",
       "      <td>4.0</td>\n",
       "      <td>4.0</td>\n",
       "    </tr>\n",
       "  </tbody>\n",
       "</table>\n",
       "</div>"
      ],
      "text/plain": [
       "      id  color  fabric  pattern\n",
       "0  img-1    2.0     0.0      4.0\n",
       "1  img-2   11.0     4.0      4.0\n",
       "2  img-3    9.0     0.0      4.0\n",
       "3  img-4    0.0     4.0      4.0\n",
       "4  img-5    5.0     4.0      4.0"
      ]
     },
     "execution_count": 5,
     "metadata": {},
     "output_type": "execute_result"
    }
   ],
   "source": [
    "train.head()"
   ]
  },
  {
   "cell_type": "markdown",
   "metadata": {},
   "source": [
    "UNQUIE ENCODED VALUE FOR EACH ATTRIBUTE"
   ]
  },
  {
   "cell_type": "code",
   "execution_count": 6,
   "metadata": {},
   "outputs": [
    {
     "name": "stdout",
     "output_type": "stream",
     "text": [
      "[ 2. 11.  9.  0.  5. 19. 14. 17. 13. 18.  3.  4.  6. 12.  1. 15. 20.  7.\n",
      " 16. 10.  8.]\n",
      "[0. 4. 2. 5. 1. 3. 6.]\n",
      "[4. 5. 0. 3. 1. 2.]\n"
     ]
    }
   ],
   "source": [
    "print(train['color'].unique())\n",
    "print(train['fabric'].unique())\n",
    "print(train['pattern'].unique())\n",
    "\n",
    "color_coded = train['color'].unique()\n",
    "fabric_coded = train['fabric'].unique()\n",
    "pattern_coded = train['pattern'].unique()\n"
   ]
  },
  {
   "cell_type": "markdown",
   "metadata": {},
   "source": [
    "HERE WE CREATE A DICTONARY SO THAT WE CAN COMPARE AND GET THE ORIGINAL DATA VALUE FROM THE ENCODED ONES"
   ]
  },
  {
   "cell_type": "code",
   "execution_count": 7,
   "metadata": {},
   "outputs": [
    {
     "name": "stdout",
     "output_type": "stream",
     "text": [
      "{2.0: 'blue', 11.0: 'pink', 9.0: 'orange', 0.0: 'black', 5.0: 'green', 19.0: 'yellow', 14.0: 'red', 17.0: 'white', 13.0: 'purple', 18.0: 'white ', 3.0: 'blue ', 4.0: 'brown ', 6.0: 'green ', 12.0: 'pink ', 1.0: 'black ', 15.0: 'red ', 20.0: 'yellow ', 7.0: 'grey', 16.0: 'violet', 10.0: 'orange ', 8.0: 'grey '}\n",
      "{0.0: 'cotton', 4.0: 'polyster', 2.0: 'ployster', 5.0: 'silk', 1.0: 'denim', 3.0: 'polyester', 6.0: 'wool'}\n",
      "{4.0: 'solid', 5.0: 'striped', 0.0: 'checked', 3.0: 'printed', 1.0: 'dyed', 2.0: 'embroidered'}\n"
     ]
    }
   ],
   "source": [
    "color_dict = res = dict(zip(color_coded, color))\n",
    "fabric_dict = res = dict(zip(fabric_coded, fabric))\n",
    "pattern_dict = res = dict(zip(pattern_coded, pattern))\n",
    "\n",
    "print(color_dict)\n",
    "print(fabric_dict)\n",
    "print(pattern_dict)"
   ]
  },
  {
   "cell_type": "code",
   "execution_count": 8,
   "metadata": {},
   "outputs": [
    {
     "data": {
      "text/plain": [
       "Index(['id', 'color', 'fabric', 'pattern'], dtype='object')"
      ]
     },
     "execution_count": 8,
     "metadata": {},
     "output_type": "execute_result"
    }
   ],
   "source": [
    "train.columns"
   ]
  },
  {
   "cell_type": "markdown",
   "metadata": {},
   "source": [
    "LOADING OUR IMAGE DATASET"
   ]
  },
  {
   "cell_type": "code",
   "execution_count": 9,
   "metadata": {},
   "outputs": [
    {
     "name": "stderr",
     "output_type": "stream",
     "text": [
      "100%|██████████| 200/200 [00:01<00:00, 143.81it/s]\n"
     ]
    }
   ],
   "source": [
    "train_image = []\n",
    "for i in tqdm(range(train.shape[0])):\n",
    "    img = image.load_img('dress_training/'+train['id'][i]+'.png',target_size=(400,400,3))\n",
    "    img = image.img_to_array(img)\n",
    "    img = img/255\n",
    "    train_image.append(img)\n",
    "X = np.array(train_image)"
   ]
  },
  {
   "cell_type": "markdown",
   "metadata": {},
   "source": [
    "SHAPE OF OUR IMAGE DATASET"
   ]
  },
  {
   "cell_type": "code",
   "execution_count": 10,
   "metadata": {},
   "outputs": [
    {
     "data": {
      "text/plain": [
       "(200, 400, 400, 3)"
      ]
     },
     "execution_count": 10,
     "metadata": {},
     "output_type": "execute_result"
    }
   ],
   "source": [
    "X.shape"
   ]
  },
  {
   "cell_type": "markdown",
   "metadata": {},
   "source": [
    "DATA EXAMPLE"
   ]
  },
  {
   "cell_type": "code",
   "execution_count": 11,
   "metadata": {},
   "outputs": [
    {
     "data": {
      "text/plain": [
       "<matplotlib.image.AxesImage at 0x2c22d2cd6d0>"
      ]
     },
     "execution_count": 11,
     "metadata": {},
     "output_type": "execute_result"
    },
    {
     "data": {
      "image/png": "[encoded data removed]",
      "text/plain": [
       "<Figure size 432x288 with 1 Axes>"
      ]
     },
     "metadata": {
      "needs_background": "light"
     },
     "output_type": "display_data"
    }
   ],
   "source": [
    "plt.imshow(X[2])"
   ]
  },
  {
   "cell_type": "markdown",
   "metadata": {},
   "source": [
    "HERE WE CAN SEE THE CHARACTERISTIC FEATURE OF THE IMAGE SHOWN ABOVE"
   ]
  },
  {
   "cell_type": "code",
   "execution_count": 12,
   "metadata": {},
   "outputs": [
    {
     "name": "stdout",
     "output_type": "stream",
     "text": [
      "orange\n",
      "cotton\n",
      "solid\n"
     ]
    }
   ],
   "source": [
    "print(color_dict[train['color'][2]])\n",
    "print(fabric_dict[train['fabric'][2]])\n",
    "print(pattern_dict[train['pattern'][2]])"
   ]
  },
  {
   "cell_type": "markdown",
   "metadata": {},
   "source": [
    "HERE WE REMOVE THE id COLUMN FORM THE TRAIN FILE AND CONVERT THE REMAINING COLUMNS TO AN ARRAY WHICH WILL BE  TARGET FOR OUR IMAGES"
   ]
  },
  {
   "cell_type": "code",
   "execution_count": 13,
   "metadata": {},
   "outputs": [
    {
     "data": {
      "text/plain": [
       "(200, 3)"
      ]
     },
     "execution_count": 13,
     "metadata": {},
     "output_type": "execute_result"
    }
   ],
   "source": [
    "y = np.array(train.drop(['id'],axis=1))\n",
    "y.shape"
   ]
  },
  {
   "cell_type": "markdown",
   "metadata": {},
   "source": [
    "NEXT WE RANDOMLY SEPARATE 10% OF THE IMAGES AS OUR VALIDATION SET"
   ]
  },
  {
   "cell_type": "code",
   "execution_count": 14,
   "metadata": {},
   "outputs": [],
   "source": [
    "X_train, X_test, y_train, y_test = train_test_split(X, y, random_state=42, test_size=0.2)"
   ]
  },
  {
   "cell_type": "markdown",
   "metadata": {},
   "source": [
    "## MODEL BUILDING<BR>\n",
    "NEXT STEP IS TO DEFINE THE ARCHITECTURE OF OUR MODEL"
   ]
  },
  {
   "cell_type": "code",
   "execution_count": 15,
   "metadata": {},
   "outputs": [],
   "source": [
    "model = Sequential()\n",
    "model.add(Conv2D(filters=16, kernel_size=(5, 5), activation=\"relu\", input_shape=(400,400,3)))\n",
    "model.add(MaxPooling2D(pool_size=(2, 2)))\n",
    "model.add(Dropout(0.25))\n",
    "model.add(Conv2D(filters=32, kernel_size=(5, 5), activation='relu'))\n",
    "model.add(MaxPooling2D(pool_size=(2, 2)))\n",
    "model.add(Dropout(0.25))\n",
    "model.add(Conv2D(filters=64, kernel_size=(5, 5), activation=\"relu\"))\n",
    "model.add(MaxPooling2D(pool_size=(2, 2)))\n",
    "model.add(Dropout(0.25))\n",
    "model.add(Conv2D(filters=128, kernel_size=(5, 5), activation='relu'))\n",
    "model.add(MaxPooling2D(pool_size=(2, 2)))\n",
    "model.add(Dropout(0.5))\n",
    "model.add(Flatten())\n",
    "model.add(Dense(128, activation='relu'))\n",
    "model.add(Dropout(0.5))\n",
    "model.add(Dense(64, activation='relu'))\n",
    "model.add(Dropout(0.5))\n",
    "model.add(Dense(3, activation='softmax'))"
   ]
  },
  {
   "cell_type": "markdown",
   "metadata": {},
   "source": [
    "THE MODEL SUMMARY TELLS US THE NUMBER OF LAYERS AND THE TOTAL TRAINABLE PARAMETERS"
   ]
  },
  {
   "cell_type": "code",
   "execution_count": 16,
   "metadata": {},
   "outputs": [
    {
     "name": "stdout",
     "output_type": "stream",
     "text": [
      "Model: \"sequential\"\n",
      "_________________________________________________________________\n",
      " Layer (type)                Output Shape              Param #   \n",
      "=================================================================\n",
      " conv2d (Conv2D)             (None, 396, 396, 16)      1216      \n",
      "                                                                 \n",
      " max_pooling2d (MaxPooling2D  (None, 198, 198, 16)     0         \n",
      " )                                                               \n",
      "                                                                 \n",
      " dropout (Dropout)           (None, 198, 198, 16)      0         \n",
      "                                                                 \n",
      " conv2d_1 (Conv2D)           (None, 194, 194, 32)      12832     \n",
      "                                                                 \n",
      " max_pooling2d_1 (MaxPooling  (None, 97, 97, 32)       0         \n",
      " 2D)                                                             \n",
      "                                                                 \n",
      " dropout_1 (Dropout)         (None, 97, 97, 32)        0         \n",
      "                                                                 \n",
      " conv2d_2 (Conv2D)           (None, 93, 93, 64)        51264     \n",
      "                                                                 \n",
      " max_pooling2d_2 (MaxPooling  (None, 46, 46, 64)       0         \n",
      " 2D)                                                             \n",
      "                                                                 \n",
      " dropout_2 (Dropout)         (None, 46, 46, 64)        0         \n",
      "                                                                 \n",
      " conv2d_3 (Conv2D)           (None, 42, 42, 128)       204928    \n",
      "                                                                 \n",
      " max_pooling2d_3 (MaxPooling  (None, 21, 21, 128)      0         \n",
      " 2D)                                                             \n",
      "                                                                 \n",
      " dropout_3 (Dropout)         (None, 21, 21, 128)       0         \n",
      "                                                                 \n",
      " flatten (Flatten)           (None, 56448)             0         \n",
      "                                                                 \n",
      " dense (Dense)               (None, 128)               7225472   \n",
      "                                                                 \n",
      " dropout_4 (Dropout)         (None, 128)               0         \n",
      "                                                                 \n",
      " dense_1 (Dense)             (None, 64)                8256      \n",
      "                                                                 \n",
      " dropout_5 (Dropout)         (None, 64)                0         \n",
      "                                                                 \n",
      " dense_2 (Dense)             (None, 3)                 195       \n",
      "                                                                 \n",
      "=================================================================\n",
      "Total params: 7,504,163\n",
      "Trainable params: 7,504,163\n",
      "Non-trainable params: 0\n",
      "_________________________________________________________________\n"
     ]
    }
   ],
   "source": [
    "model.summary()"
   ]
  },
  {
   "cell_type": "markdown",
   "metadata": {},
   "source": [
    "NEXT WE COMPILE OUR MODEL WITH binary_crossentropy AS THE LOSS FUNCTION AND adam AS THE OPTIMIZER"
   ]
  },
  {
   "cell_type": "code",
   "execution_count": 17,
   "metadata": {},
   "outputs": [],
   "source": [
    "model.compile(optimizer='adam', loss='binary_crossentropy', metrics=['accuracy'])"
   ]
  },
  {
   "cell_type": "markdown",
   "metadata": {},
   "source": [
    "FINALLY WE TRAING THE MODEL FOR 10 EPOCHS AND ALSO PASS THE VALIDATION DATA WHICH WE CREATED EARLIER IN ORDER TO VALIDATE THE MODEL'S PERFORMANCE"
   ]
  },
  {
   "cell_type": "code",
   "execution_count": 18,
   "metadata": {},
   "outputs": [
    {
     "name": "stdout",
     "output_type": "stream",
     "text": [
      "Epoch 1/10\n",
      "3/3 [==============================] - 21s 6s/step - loss: -346.8076 - accuracy: 0.6625 - val_loss: -1204.7839 - val_accuracy: 0.7250\n",
      "Epoch 2/10\n",
      "3/3 [==============================] - 16s 5s/step - loss: -10967.9258 - accuracy: 0.8000 - val_loss: -23880.2559 - val_accuracy: 0.7250\n",
      "Epoch 3/10\n",
      "3/3 [==============================] - 15s 5s/step - loss: -98790.9219 - accuracy: 0.8062 - val_loss: -185545.3125 - val_accuracy: 0.7250\n",
      "Epoch 4/10\n",
      "3/3 [==============================] - 15s 5s/step - loss: -630521.5000 - accuracy: 0.8062 - val_loss: -906848.8125 - val_accuracy: 0.7250\n",
      "Epoch 5/10\n",
      "3/3 [==============================] - 15s 5s/step - loss: -2335311.2500 - accuracy: 0.8000 - val_loss: -3542087.5000 - val_accuracy: 0.7250\n",
      "Epoch 6/10\n",
      "3/3 [==============================] - 15s 5s/step - loss: -8004637.0000 - accuracy: 0.8000 - val_loss: -11784066.0000 - val_accuracy: 0.7250\n",
      "Epoch 7/10\n",
      "3/3 [==============================] - 16s 5s/step - loss: -23926304.0000 - accuracy: 0.8062 - val_loss: -34680536.0000 - val_accuracy: 0.7250\n",
      "Epoch 8/10\n",
      "3/3 [==============================] - 16s 5s/step - loss: -72947728.0000 - accuracy: 0.8062 - val_loss: -90437488.0000 - val_accuracy: 0.7250\n",
      "Epoch 9/10\n",
      "3/3 [==============================] - 16s 5s/step - loss: -158080704.0000 - accuracy: 0.8062 - val_loss: -218032096.0000 - val_accuracy: 0.7250\n",
      "Epoch 10/10\n",
      "3/3 [==============================] - 15s 4s/step - loss: -395314496.0000 - accuracy: 0.8062 - val_loss: -495812960.0000 - val_accuracy: 0.7250\n"
     ]
    },
    {
     "data": {
      "text/plain": [
       "<keras.callbacks.History at 0x2c261dcd730>"
      ]
     },
     "execution_count": 18,
     "metadata": {},
     "output_type": "execute_result"
    }
   ],
   "source": [
    "model.fit(X_train, y_train, epochs=10, validation_data=(X_test, y_test), batch_size=64)"
   ]
  },
  {
   "cell_type": "markdown",
   "metadata": {},
   "source": [
    "AS WE CAN SEE THAT WE HAVE ACHIEVED AN ACCURACY OF 80.62%.<BR>\n",
    "AND AS THE AMOUNT OF TRAINING DATA INCREASES WE CAN IMPROVE OUR MODEL BY CHANGING THE AMOUNT AND TYPE OF LAYERS AND<BR>\n",
    "THUS CAN EFFECTIVELY INCREASE OUR PERFORMANCE."
   ]
  }
 ],
 "metadata": {
  "interpreter": {
   "hash": "abc6ef51ecdadf34466f302b81ab6bd3418e8f0a8b370042f51c5fb2914401cb"
  },
  "kernelspec": {
   "display_name": "Python 3.9.5 64-bit",
   "language": "python",
   "name": "python3"
  },
  "language_info": {
   "codemirror_mode": {
    "name": "ipython",
    "version": 3
   },
   "file_extension": ".py",
   "mimetype": "text/x-python",
   "name": "python",
   "nbconvert_exporter": "python",
   "pygments_lexer": "ipython3",
   "version": "3.9.5"
  },
  "orig_nbformat": 4
 },
 "nbformat": 4,
 "nbformat_minor": 2
}
